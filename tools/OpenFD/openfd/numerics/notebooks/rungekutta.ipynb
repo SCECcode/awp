{
 "cells": [
  {
   "cell_type": "markdown",
   "metadata": {},
   "source": [
    "# Runge-Kutta\n",
    "The `rungekutta` module provides implementations of `Runge-Kutta` time integrators that  transform a symbolic expression into a ready to use RK \"rates\" and \"update\" formulas.\n",
    "\n",
    "To demonstrate how to use this module, we consider the following test problem and solve it using each of the available time integrators\n",
    "\n",
    "$\n",
    "\\frac{d\\mathbf{u}}{dt} = -s\\mathbf{u}\n",
    "$\n",
    "\n",
    "To get started, we import the `rungekutta` module"
   ]
  },
  {
   "cell_type": "code",
   "execution_count": null,
   "metadata": {},
   "outputs": [],
   "source": [
    "from openfd import rungekutta\n"
   ]
  },
  {
   "cell_type": "markdown",
   "metadata": {},
   "source": [
    "# 2N Low-storage Runge-Kutta schemes\n",
    "A 2N low-storage Runge-Kutta scheme requires twice as much as memory as the solution itself. In this case, to set up the problem, in addition to defining `u` we also need to define an additional variable `du`. This additional variable represents temporary memory that will be used by the low storage scheme to update the solution.\n",
    "\n",
    "To advance the solution in time from `t` to `t  + dt`, the scheme proceeds in two steps: \n",
    " * The first step sets the rates (evaluates the right-hand side)\n",
    " * The second step updates the solution\n",
    " \n",
    "The `rate` and `solution` update are repeated for the number of stages, which we will return to when running hte code."
   ]
  },
  {
   "cell_type": "code",
   "execution_count": null,
   "metadata": {},
   "outputs": [],
   "source": [
    "from sympy import symbols\n",
    "from openfd import GridFunction\n",
    "n = symbols('n')\n",
    "u = GridFunction('u', shape=(n,))\n",
    "s = GridFunction('s', shape=(n,))\n",
    "du = GridFunction('du', shape=(n,))"
   ]
  },
  {
   "cell_type": "markdown",
   "metadata": {},
   "source": [
    "Recall that the problem we are trying to solve involves the following right-hand side"
   ]
  },
  {
   "cell_type": "code",
   "execution_count": null,
   "metadata": {},
   "outputs": [],
   "source": [
    "rhs = -s*u"
   ]
  },
  {
   "cell_type": "markdown",
   "metadata": {},
   "source": [
    "Once the problem setup is complete, we initialize a new RK object that will be used in the proceeding sections"
   ]
  },
  {
   "cell_type": "code",
   "execution_count": null,
   "metadata": {},
   "outputs": [],
   "source": [
    "rk = rungekutta.LSRK4()"
   ]
  },
  {
   "cell_type": "markdown",
   "metadata": {},
   "source": [
    "## Setting rates and computing update\n",
    "We are now ready to generate the expression that sets the RK rates"
   ]
  },
  {
   "cell_type": "code",
   "execution_count": null,
   "metadata": {},
   "outputs": [],
   "source": [
    "\n",
    "du, rate_expr = rk.rates(du, rhs)\n",
    "rate_expr \n"
   ]
  },
  {
   "cell_type": "markdown",
   "metadata": {},
   "source": [
    "If the right-hand side needs to be broken up into multiple evaluations, then use `append=True` for the proceeding evaluations.\n"
   ]
  },
  {
   "cell_type": "code",
   "execution_count": null,
   "metadata": {},
   "outputs": [],
   "source": [
    "du, rate_expr2 = rk.rates(du, -u, append=True)\n",
    "rate_expr2"
   ]
  },
  {
   "cell_type": "markdown",
   "metadata": {},
   "source": [
    "We also need to update the solution at the end of each stage, and the expression for that is simply obtained by"
   ]
  },
  {
   "cell_type": "code",
   "execution_count": null,
   "metadata": {},
   "outputs": [],
   "source": [
    "u, upd_expr = rk.update(u, du)\n",
    "print(upd_expr)"
   ]
  },
  {
   "cell_type": "markdown",
   "metadata": {},
   "source": [
    "In the next section, we will streamline the process a little bit more (not defining any intermediate variables `rate_expr` etc)."
   ]
  },
  {
   "cell_type": "markdown",
   "metadata": {},
   "source": [
    "## Kernel generation \n",
    "We will construct and execute `Cuda` kernels, but changing to any other generator can easily be accomplished by changing `CudaGenerator` to for example `OpenclGenerator`."
   ]
  },
  {
   "cell_type": "code",
   "execution_count": null,
   "metadata": {},
   "outputs": [],
   "source": [
    "from openfd.dev import kernelgenerator as kg\n",
    "from openfd import Bounds\n",
    "generator = kg.CudaGenerator\n",
    "kernels = []"
   ]
  },
  {
   "cell_type": "code",
   "execution_count": null,
   "metadata": {},
   "outputs": [],
   "source": [
    "# lhs, rhs, grid dimension symbols, bounds, and rates\n",
    "krate = generator((n,), Bounds(n), *rk.rates(du, rhs))\n",
    "# .. update\n",
    "kupd = generator((n,), Bounds(n), *rk.update(u, du))"
   ]
  },
  {
   "cell_type": "markdown",
   "metadata": {},
   "source": [
    "Once we have prepared the kernels we need to select what regions to generate. Since the computation is homogeneous, we set the region to `1`."
   ]
  },
  {
   "cell_type": "code",
   "execution_count": null,
   "metadata": {},
   "outputs": [],
   "source": [
    "kernels.append(krate.kernel('rates', 1))\n",
    "kernels.append(kupd.kernel('update', 1))"
   ]
  },
  {
   "cell_type": "markdown",
   "metadata": {},
   "source": [
    "We can inspect the kernels by calling their `code` attribute"
   ]
  },
  {
   "cell_type": "code",
   "execution_count": null,
   "metadata": {},
   "outputs": [],
   "source": [
    "print(kernels[0].code)"
   ]
  },
  {
   "cell_type": "code",
   "execution_count": null,
   "metadata": {},
   "outputs": [],
   "source": [
    "print(kernels[1].code)"
   ]
  },
  {
   "cell_type": "markdown",
   "metadata": {},
   "source": [
    "## Kernel evaluation\n",
    "Once the kernels have been generated, it is time to execute them. To start off, we initialize a compatible evaluator (same language as the one used to generate the kernels). \n",
    "\n"
   ]
  },
  {
   "cell_type": "code",
   "execution_count": null,
   "metadata": {},
   "outputs": [],
   "source": [
    "from openfd.dev import cudaevaluator as ce\n",
    "evaluator = ce.CudaEvaluator"
   ]
  },
  {
   "cell_type": "markdown",
   "metadata": {},
   "source": [
    "Next, we allocate memory for all gridfunctions and assign some initial values to them."
   ]
  },
  {
   "cell_type": "code",
   "execution_count": null,
   "metadata": {},
   "outputs": [],
   "source": [
    "import numpy as np\n",
    "nmem = np.int32(32)\n",
    "gpu_u = np.array(nmem).astype(np.float32)\n",
    "gpu_du = np.array(nmem).astype(np.float32)\n",
    "gpu_s = np.ones((nmem,)).astype(np.float32)\n",
    "dt = np.float32(0.1)\n"
   ]
  },
  {
   "cell_type": "markdown",
   "metadata": {},
   "source": [
    "We pass the kernels to the evaluator and bind the all of the input and out arguments to their symbols and values. If you forget some input argument, then the `evaluator` will tell you which one you forgot to specify."
   ]
  },
  {
   "cell_type": "code",
   "execution_count": null,
   "metadata": {},
   "outputs": [],
   "source": [
    "\n",
    "ke = evaluator(kernels, inputs={n : nmem, s : gpu_s, u : gpu_u, du : gpu_du,\n",
    "                                rk.ak : np.float32(rk.a[0]), \n",
    "                                rk.bk : np.float32(rk.b[0]), rk.dt : dt }, outputs={du : gpu_du})"
   ]
  },
  {
   "cell_type": "markdown",
   "metadata": {},
   "source": [
    "Next, we evaluate and check the result"
   ]
  },
  {
   "cell_type": "code",
   "execution_count": null,
   "metadata": {},
   "outputs": [],
   "source": [
    "ke.eval()"
   ]
  },
  {
   "cell_type": "code",
   "execution_count": null,
   "metadata": {},
   "outputs": [],
   "source": [
    "#TODO: Continue this notebook once the evaluator is up and running properly"
   ]
  },
  {
   "cell_type": "code",
   "execution_count": null,
   "metadata": {},
   "outputs": [],
   "source": []
  },
  {
   "cell_type": "code",
   "execution_count": null,
   "metadata": {},
   "outputs": [],
   "source": []
  }
 ],
 "metadata": {
  "kernelspec": {
   "display_name": "Python 3",
   "language": "python",
   "name": "python3"
  },
  "language_info": {
   "codemirror_mode": {
    "name": "ipython",
    "version": 3
   },
   "file_extension": ".py",
   "mimetype": "text/x-python",
   "name": "python",
   "nbconvert_exporter": "python",
   "pygments_lexer": "ipython3",
   "version": "3.6.3"
  }
 },
 "nbformat": 4,
 "nbformat_minor": 2
}
