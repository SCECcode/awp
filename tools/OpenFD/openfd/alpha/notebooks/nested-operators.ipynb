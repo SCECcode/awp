{
 "cells": [
  {
   "cell_type": "markdown",
   "metadata": {},
   "source": [
    "## Nested operators\n",
    "This notebook explores how to build new operators via operator nesting. This is a design suggestion, i.e. the actual implementation has not been carried out yet. There are also design suggestions for simplying the detection of regions and applying an operator.\n",
    "\n",
    "The key function that enables the construction of nested operators is `get_array`. This function could also be used for constructing the `banded` operation discussed in the [fills](fills.ipynb) notebook. Since this means that there are two ways of accomplish the same thing, one of them should be removed. My vote would be to keep the function `get_array` and remove the function `banded`. \n",
    "\n",
    "Another aspect that this notebook explores is the value access vs symbolic access. I'm wondering if not having `( )` for get value is a bad design idea because it will inevitably lead to problems when the indices are symbolic."
   ]
  },
  {
   "cell_type": "code",
   "execution_count": 1,
   "metadata": {
    "collapsed": true
   },
   "outputs": [],
   "source": [
    "from openfd.alpha import GridFunction, Expression, Operator\n",
    "from openfd.alpha import array\n",
    "\n",
    "class SecondDerivative(Operator):\n",
    "    \n",
    "    def initialize(self):\n",
    "        ## Construct an expression for a first derivative via operator nesting.\n",
    "        D = Derivative('D') \n",
    "        D2 = Expression(D*D)      \n",
    "        \n",
    "        # Now, we get the data arrays from this second derivative.\n",
    "        # The trick to building the `get_array` function would be to invoke the `__call__` method on the expression \n",
    "        # `D2` and get the indices and values from the expression itself. \n",
    "        # That is, the ability to perform value accesses on an expression is the main mechanism behind this function.\n",
    "        # TODO: I think I have pretty good idea of how to accomplish the implementation of this function (not done yet).\n",
    "        self._data[0] = get_array('d2l', D2, 0) # left boundary\n",
    "        self._data[1] = get_array('d2i', D2, 1) # interior\n",
    "        self._data[2] = get_array('d2r', D2, 2) # right boundary\n",
    "        \n",
    "        # For now we assign some other data to demonstrate usage\n",
    "        self._data[0] = array.CArray('d2l', data = [[1.0, -2.0, 1.0]])\n",
    "        self._data[1] = array.CArray('d2i', data = [[1.0, -2.0, 1.0]])\n",
    "        self._data[2] = array.CArray('d2r', data = [1.0, -2.0, 1.0]) \n",
    "        \n",
    "    def __getitem__(self, index):\n",
    "        \"\"\"\n",
    "        TODO: This method will be moved to the base class.\n",
    "        \"\"\"\n",
    "        return self.__eval__(index, lambda x, *index : x[index])\n",
    "    \n",
    "    def __call__(self, index):\n",
    "        \"\"\"\n",
    "        TODO: This method will be moved to the base class.\n",
    "        \"\"\"\n",
    "        return self.__eval__(index, lambda x, *index : x(*index))\n",
    "    \n",
    "    def __eval__(self, index, op):\n",
    "        \"\"\"\n",
    "        The user will only need to implement this method. \n",
    "        By using the lambda `op`, it is only necessary to write the implementation once. \n",
    "        \"\"\"   \n",
    "        \n",
    "        # The get region returns the region id for an index. The index can be either `int` or symbolic `Index`.\n",
    "        # If `index` is an int, then it either maps to the region: 0 if `index > 0` (left), or region: 2 if `index < 0`. \n",
    "        # The `Index` class could also be fleshed out by having a set function that make it possible to store a value.\n",
    "        region = get_region(index)      \n",
    "        data = self.data[region]\n",
    "        \n",
    "        # Left or right boundary\n",
    "        if region != 2: \n",
    "            return sum([op(self.args, j)*op(data, index, j) for j in range(data.shape[1])])\n",
    "        # interior\n",
    "        else:      \n",
    "            return sum([op(self.args, j + index)*op(data, j) for j in range(data.shape[0])])\n",
    "        \n",
    "def get_region(index):\n",
    "    \"\"\"\n",
    "    Determines what region an index maps to. \n",
    "    If the index is of type `Index` this information could be read from the `id` attribute as dicussed in another issue.\n",
    "    If that is poor design descision, then it should be possible to determine the region from the index bounds.\n",
    "    In case region is an `int`, then it can only be mapped to the left (region = `0`), or the right (region = `1`) regions.\n",
    "    By convention, non-negative indices map to the left, and negative indices map to the right region.\n",
    "    \n",
    "    Arguments:\n",
    "    \n",
    "        index : The index to determine region affinity for.\n",
    "    \n",
    "    Returns:\n",
    "    \n",
    "        int : The region id.\n",
    "    \n",
    "    \"\"\"\n",
    "    if isinstance(index, int):\n",
    "        if index < 0:\n",
    "            return 2\n",
    "        else:\n",
    "            return 1\n",
    "    else:\n",
    "        return index.id\n",
    "\n",
    "def get_array(label, expr, region, num_pts='auto', max_num_pts=100, language='C'):\n",
    "    \"\"\"\n",
    "    Analyzes an expression that contains operators and packs their data into a\n",
    "    data array. This function assumes that the operators are one dimensional.\n",
    "\n",
    "    Arguments:\n",
    "    \n",
    "        label(`str`): The label to assign to the data array.\n",
    "        expr : The expression to analyze. \n",
    "        region : An optional `int` that determines the region to extract data\n",
    "                    from. Use `0` for left boundary, `1` for interior, or `2` for right boundary. Defaults\n",
    "                    to `0`.\n",
    "        num_pts : An optional `int` that gives the number of points to analyze. \n",
    "                    By default, this argument is set to `'auto'` which tries to\n",
    "                    automatically detect the number of boundary points by stopping\n",
    "                    when repetition occurs.\n",
    "        max_num_pts : An optional `int` that sets the maximum number of grid\n",
    "                          points to use when constructing the operator. Defaults to `100`.\n",
    "        language : An optional `str` that specifies the language to use for the array. \n",
    "                       Defaults to `C`. See [array](array.ipynb) for details.\n",
    "\n",
    "    Returns:\n",
    "    \n",
    "        Array : An instance of `Array` but for the target language. Defaults to `CArray`. \n",
    "\n",
    "    \"\"\"\n",
    "    return None\n",
    "\"\"\"\n",
    "TODO: Remove duplication. The derivative class has been copied from the notebook [operators-value-access](operators-value-access.ipynb)\n",
    "\"\"\"\n",
    "from openfd.alpha.array import CArray\n",
    "class Derivative(Operator):\n",
    "    \n",
    "    def initialize(self):\n",
    "        self._data[0] = CArray('dl', data=[-1.0, 1.0])\n",
    "        self._data[1] = CArray('di', data=[-0.5, 0.5])\n",
    "        self._data[2] = CArray('dr', data=[-1.0, 1.0])\n",
    "        \n",
    "    def __getitem__(self, index):\n",
    "        \"\"\"\n",
    "        This method will be moved to the base class.\n",
    "        \"\"\"\n",
    "        return self.__eval__(index, lambda x, index : x[index])\n",
    "    \n",
    "    def __call__(self, index):\n",
    "        \"\"\"\n",
    "        This method will be moved to the base class.\n",
    "        \"\"\"\n",
    "        return self.__eval__(index, lambda x, index : x(index))\n",
    "    \n",
    "    def __eval__(self, index, op):\n",
    "        \"\"\"\n",
    "        The user will only need to implement this method. \n",
    "        By using the lambda `op`, it is only necessary to write the implementation once. \n",
    "        \"\"\"\n",
    "        left = self.data[0]\n",
    "        interior = self.data[1]\n",
    "        right = self.data[2]\n",
    "        \n",
    "        # TODO: Build some function that handles region detection for any input (int, or symbolic)\n",
    "        if isinstance(index, int):\n",
    "            if index == 0:\n",
    "                return op(self.args, 0)*op(left, 0) + op(self.args, 1)*op(left, 1) \n",
    "            elif index == -1:\n",
    "                return op(self.args, -1)*op(right, 0) + op(self.args, -2)*op(right, 1)\n",
    "            else:\n",
    "                return op(self.args, index-1)*op(interior, 0) + op(self.args, index+1)*op(interior, 1)  \n",
    "        else:           \n",
    "            if index.id == 0:\n",
    "                return op(self.args, 0)*op(left, 0) + op(self.args, 1)*op(left, 1)\n",
    "            elif index.id == 2:\n",
    "                return op(self.args, -1)*op(right, 0) + op(self.args, -2)*op(right, 1)\n",
    "            else:\n",
    "                return op(self.args, index-1)*op(interior, 0) + op(self.args, index+1)*op(interior, 1)\n",
    "\"\"\"\n",
    "TODO: Remove duplication.\n",
    "place-holder class that will be implemented if approved. Will also include bounds as discussed in issue #13\n",
    "These three classes will be one class. The region id will be an attribute.\n",
    "(shameless copy-and-paste from [fills](fills.ipynb))\n",
    "\"\"\"\n",
    "from sympy import Symbol\n",
    "class LeftBoundaryIndex(Symbol):\n",
    "    @property\n",
    "    def id(self):\n",
    "        return 0\n",
    "    \n",
    "class RightBoundaryIndex(Symbol):\n",
    "    @property\n",
    "    def id(self):\n",
    "        return 2\n",
    "    \n",
    "class InteriorIndex(Symbol):\n",
    "    @property\n",
    "    def id(self):\n",
    "        return 1\n",
    "\n"
   ]
  },
  {
   "cell_type": "markdown",
   "metadata": {},
   "source": [
    "Now that we have built the second derivative we can go ahead and use it."
   ]
  },
  {
   "cell_type": "code",
   "execution_count": 2,
   "metadata": {
    "collapsed": true
   },
   "outputs": [],
   "source": [
    "D2 = SecondDerivative('D2')\n",
    "u = GridFunction('u', shape=(10,))\n",
    "explicit = Expression(D2*u)"
   ]
  },
  {
   "cell_type": "markdown",
   "metadata": {},
   "source": [
    "Let's perform some symbolic and value accesses."
   ]
  },
  {
   "cell_type": "code",
   "execution_count": 3,
   "metadata": {},
   "outputs": [
    {
     "data": {
      "text/plain": [
       "u[0]*d2i[0][0] + u[1]*d2i[0][1] + u[2]*d2i[0][2]"
      ]
     },
     "execution_count": 3,
     "metadata": {},
     "output_type": "execute_result"
    }
   ],
   "source": [
    "explicit[0]"
   ]
  },
  {
   "cell_type": "markdown",
   "metadata": {},
   "source": [
    "We can check that the second derivative behaves as expected by comparing it to a nested expression using first derivatives. The value accesses should give the same results. "
   ]
  },
  {
   "cell_type": "code",
   "execution_count": 4,
   "metadata": {
    "collapsed": true
   },
   "outputs": [],
   "source": [
    "D = Derivative('D')\n",
    "implicit = Expression(D*D*u)"
   ]
  },
  {
   "cell_type": "markdown",
   "metadata": {},
   "source": [
    "The key difference between having an explicit form for the the second derivative is that the array values are packed into a single array. If we perform a symbolic access on the implicit second derivative, then we get two array multiplications for each term."
   ]
  },
  {
   "cell_type": "code",
   "execution_count": 6,
   "metadata": {},
   "outputs": [
    {
     "data": {
      "text/plain": [
       "u[0]*d2l[il][0] + u[1]*d2l[il][1] + u[2]*d2l[il][2]"
      ]
     },
     "execution_count": 6,
     "metadata": {},
     "output_type": "execute_result"
    }
   ],
   "source": [
    "il = LeftBoundaryIndex('il')\n",
    "explicit[il]"
   ]
  },
  {
   "cell_type": "code",
   "execution_count": 7,
   "metadata": {},
   "outputs": [
    {
     "data": {
      "text/plain": [
       "(u[0]*di[0] + u[2]*di[1])*dl[1] + (u[0]*dl[0] + u[1]*dl[1])*dl[0]"
      ]
     },
     "execution_count": 7,
     "metadata": {},
     "output_type": "execute_result"
    }
   ],
   "source": [
    "implicit[il]"
   ]
  },
  {
   "cell_type": "code",
   "execution_count": 15,
   "metadata": {},
   "outputs": [
    {
     "data": {
      "text/plain": [
       "1.0*u[0] - 2.0*u[1] + 1.0*u[2]"
      ]
     },
     "execution_count": 15,
     "metadata": {},
     "output_type": "execute_result"
    }
   ],
   "source": [
    "explicit(0) # The values returned here are not correct at the moment."
   ]
  },
  {
   "cell_type": "code",
   "execution_count": 16,
   "metadata": {},
   "outputs": [
    {
     "data": {
      "text/plain": [
       "-1.0*(-1.0*u[0] + 1.0*u[1]) + 1.0*(-0.5*u[0] + 0.5*u[2])"
      ]
     },
     "execution_count": 16,
     "metadata": {},
     "output_type": "execute_result"
    }
   ],
   "source": [
    "implicit(0)"
   ]
  },
  {
   "cell_type": "markdown",
   "metadata": {},
   "source": [
    "## Symbolic vs value access"
   ]
  },
  {
   "cell_type": "code",
   "execution_count": 14,
   "metadata": {
    "collapsed": true
   },
   "outputs": [],
   "source": [
    "# Does not work because we cannot pass a symbolic index to a get value-call. The value to get cannot be determined.\n",
    "# explicit(il)"
   ]
  },
  {
   "cell_type": "code",
   "execution_count": 11,
   "metadata": {},
   "outputs": [
    {
     "data": {
      "text/plain": [
       "-1.0*(-1.0*u[0] + 1.0*u[1]) + 1.0*(-0.5*u[0] + 0.5*u[2])"
      ]
     },
     "execution_count": 11,
     "metadata": {},
     "output_type": "execute_result"
    }
   ],
   "source": [
    "# Works here because the symbol is never passed to the array, which is sort of confusing.\n",
    "implicit(il)"
   ]
  },
  {
   "cell_type": "code",
   "execution_count": null,
   "metadata": {
    "collapsed": true
   },
   "outputs": [],
   "source": []
  }
 ],
 "metadata": {
  "kernelspec": {
   "display_name": "Python 2",
   "language": "python",
   "name": "python2"
  },
  "language_info": {
   "codemirror_mode": {
    "name": "ipython",
    "version": 2
   },
   "file_extension": ".py",
   "mimetype": "text/x-python",
   "name": "python",
   "nbconvert_exporter": "python",
   "pygments_lexer": "ipython2",
   "version": "2.7.12+"
  }
 },
 "nbformat": 4,
 "nbformat_minor": 2
}
