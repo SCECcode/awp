{
 "cells": [
  {
   "cell_type": "markdown",
   "metadata": {},
   "source": [
    "# Symbolic and value access\n",
    "The code example below is a modification of the `Derivative` implementation that was presented in [fills](fills.ipynb). In this notebook, we will use this implementation to explore the two different ways of accessing elements. Either an access can be `symbolic`, or it can be `value`-based."
   ]
  },
  {
   "cell_type": "code",
   "execution_count": 1,
   "metadata": {},
   "outputs": [],
   "source": [
    "from openfd.alpha import Expression, GridFunction, Operator\n",
    "from openfd.alpha.array import CArray\n",
    "\n",
    "class Derivative(Operator):\n",
    "    \n",
    "    def initialize(self):\n",
    "        self._data[0] = CArray('dl', data=[-1.0, 1.0])\n",
    "        self._data[1] = CArray('di', data=[-0.5, 0.5])\n",
    "        self._data[2] = CArray('dr', data=[-1.0, 1.0])\n",
    "        \n",
    "    def __getitem__(self, index):\n",
    "        \"\"\"\n",
    "        This method will be moved to the base class.\n",
    "        \"\"\"\n",
    "        return self.__eval__(index, lambda x, index : x[index])\n",
    "    \n",
    "    def __call__(self, index):\n",
    "        \"\"\"\n",
    "        This method will be moved to the base class.\n",
    "        \"\"\"\n",
    "        return self.__eval__(index, lambda x, index : x(index))\n",
    "    \n",
    "    def __eval__(self, index, op):\n",
    "        \"\"\"\n",
    "        The user will only need to implement this method. \n",
    "        By using the lambda `op`, it is only necessary to write the implementation once. \n",
    "        \"\"\"\n",
    "        left = self.data[0]\n",
    "        interior = self.data[1]\n",
    "        right = self.data[2]\n",
    "        \n",
    "        # TODO: Build some function that handles region detection for any input (int, or symbolic)\n",
    "        if isinstance(index, int):\n",
    "            if index == 0:\n",
    "                return op(self.args, 0)*op(left, 0) + op(self.args, 1)*op(left, 1) \n",
    "            elif index == -1:\n",
    "                return op(self.args, -1)*op(right, 0) + op(self.args, -2)*op(right, 1)\n",
    "            else:\n",
    "                return op(self.args, index-1)*op(interior, 0) + op(self.args, index+1)*op(interior, 1)  \n",
    "        else:           \n",
    "            if index.id == 0:\n",
    "                return op(self.args, 0)*op(left, 0) + op(self.args, 1)*op(left, 1)\n",
    "            elif index.id == 2:\n",
    "                return op(self.args, -1)*op(right, 0) + op(self.args, -2)*op(right, 1)\n",
    "            else:\n",
    "                return op(self.args, index-1)*op(interior, 0) + op(self.args, index+1)*op(interior, 1)\n",
    "\n",
    "\"\"\"\n",
    "place-holder class that will be implemented if approved. Will also include bounds as discussed in issue #13\n",
    "These three classes will be one class. The region id will be an attribute.\n",
    "(shameless copy-and-paste from [fills](fills.ipynb))\n",
    "\"\"\"\n",
    "from sympy import Symbol\n",
    "class LeftBoundaryIndex(Symbol):\n",
    "    @property\n",
    "    def id(self):\n",
    "        return 0\n",
    "    \n",
    "class RightBoundaryIndex(Symbol):\n",
    "    @property\n",
    "    def id(self):\n",
    "        return 2\n",
    "    \n",
    "class InteriorIndex(Symbol):\n",
    "    @property\n",
    "    def id(self):\n",
    "        return 1\n",
    "    "
   ]
  },
  {
   "cell_type": "markdown",
   "metadata": {},
   "source": [
    " First, let's build an expression."
   ]
  },
  {
   "cell_type": "code",
   "execution_count": 2,
   "metadata": {
    "collapsed": true
   },
   "outputs": [],
   "source": [
    "D = Derivative('D')\n",
    "u = GridFunction('u', shape=(10,))\n",
    "il = LeftBoundaryIndex('il')\n",
    "ii = InteriorIndex('ii')\n",
    "expr = Expression(D*u)"
   ]
  },
  {
   "cell_type": "markdown",
   "metadata": {},
   "source": [
    "## Symbolic access"
   ]
  },
  {
   "cell_type": "markdown",
   "metadata": {},
   "source": [
    "A symbolic access returns the evaluation of an expression in symbolic form. This means that any data values are packed into [arrays](array.ipynb). \n",
    "\n",
    "To perform a symbolic access of the left boundary, we pass an index that matches this region."
   ]
  },
  {
   "cell_type": "code",
   "execution_count": 3,
   "metadata": {},
   "outputs": [
    {
     "data": {
      "text/plain": [
       "u[0]*dl[0] + u[1]*dl[1]"
      ]
     },
     "execution_count": 3,
     "metadata": {},
     "output_type": "execute_result"
    }
   ],
   "source": [
    "expr[il]"
   ]
  },
  {
   "cell_type": "markdown",
   "metadata": {},
   "source": [
    "Symbolic access of the interior"
   ]
  },
  {
   "cell_type": "code",
   "execution_count": 4,
   "metadata": {},
   "outputs": [
    {
     "data": {
      "text/plain": [
       "u[ii - 1]*di[0] + u[ii + 1]*di[1]"
      ]
     },
     "execution_count": 4,
     "metadata": {},
     "output_type": "execute_result"
    }
   ],
   "source": [
    "expr[ii]"
   ]
  },
  {
   "cell_type": "markdown",
   "metadata": {},
   "source": [
    "## Value access"
   ]
  },
  {
   "cell_type": "markdown",
   "metadata": {},
   "source": [
    "When a value access is performed, only those objects that can return by value will do so. [Gridfunctions](gridfunction.ipynb) are by definition symbolic and will therefore not return by value. Instead, they behave in the same way as when as symbolic access occurs. However, the data [arrays](array.ipynb) that are used to build operators support value access.\n",
    "\n",
    "Consider a value access of the left boundary"
   ]
  },
  {
   "cell_type": "code",
   "execution_count": 5,
   "metadata": {},
   "outputs": [
    {
     "data": {
      "text/plain": [
       "-1.0*u[0] + 1.0*u[1]"
      ]
     },
     "execution_count": 5,
     "metadata": {},
     "output_type": "execute_result"
    }
   ],
   "source": [
    "expr(il)"
   ]
  },
  {
   "cell_type": "markdown",
   "metadata": {},
   "source": [
    "and a value access of the interior"
   ]
  },
  {
   "cell_type": "code",
   "execution_count": 6,
   "metadata": {},
   "outputs": [
    {
     "data": {
      "text/plain": [
       "-0.5*u[ii - 1] + 0.5*u[ii + 1]"
      ]
     },
     "execution_count": 6,
     "metadata": {},
     "output_type": "execute_result"
    }
   ],
   "source": [
    "expr(ii)"
   ]
  }
 ],
 "metadata": {
  "kernelspec": {
   "display_name": "Python 2",
   "language": "python",
   "name": "python2"
  },
  "language_info": {
   "codemirror_mode": {
    "name": "ipython",
    "version": 2
   },
   "file_extension": ".py",
   "mimetype": "text/x-python",
   "name": "python",
   "nbconvert_exporter": "python",
   "pygments_lexer": "ipython2",
   "version": "2.7.12+"
  }
 },
 "nbformat": 4,
 "nbformat_minor": 2
}
