{
 "cells": [
  {
   "cell_type": "markdown",
   "metadata": {},
   "source": [
    "# Fills\n",
    "There are situations when the range of the actual boundary computation of an operator does not coincide with the range of a kernel function. In some of these situations, it is important to take some other form of action than the default action. The default action is to perform no computation when the thread count exceeds the data array size of a kernel. This default action does not always lead to correct computations. For instance, issues in the form of erroneous computational results arise when operators are nested because that typically causes the size of boundary data region to grow. The problem with that is that the boundary data region of the nesting now contains a mixture of both boundary and interior stencils. The fill module provides functions and classes for expanding the boundary data arrays by filling them with zeros, or interior stencils, as well as updating the index bounds accordingly. \n",
    "\n",
    "\n",
    "\n"
   ]
  },
  {
   "cell_type": "markdown",
   "metadata": {},
   "source": [
    "For example, suppose that an operator is defined as follows"
   ]
  },
  {
   "cell_type": "code",
   "execution_count": 1,
   "metadata": {
    "collapsed": true
   },
   "outputs": [],
   "source": [
    "from openfd.alpha import Operator, array, GridFunction, Expression, index\n",
    "import numpy as np\n",
    "\n",
    "class Derivative(Operator):    \n",
    "    # Called during object initialization (avoids the need to having to overload the init method and calling super)\n",
    "    def initialize(self):\n",
    "        # data key refers to region id     \n",
    "        self._data[0] = array.CArray('dl', data = np.array([[-1.0, 1.0]]))\n",
    "        self._data[1] = array.CArray('di', data = np.array([-0.5, 0.5]))\n",
    "        self._data[2] = array.CArray('dr', data = np.array([[-1.0, 1.0]]))\n",
    "    \n",
    "    def __getitem__(self, indices):\n",
    "        left = self.data[0]\n",
    "        interior = self.data[1]\n",
    "        right = self.data[2]\n",
    "        # Handle left boundary region\n",
    "        if indices.id == 0:\n",
    "            return sum([self.args[i]*left[indices, i] for i in range(left.shape[1])])\n",
    "        # Handle interior region\n",
    "        elif indices.id == 1:\n",
    "            return self.args[indices-1]*interior[0] + self.args[indices+1]*interior[1]\n",
    "        # Handle right boundary region\n",
    "        elif indices.id == 2:\n",
    "            return sum([self.args[-(i+1)]*right[indices, i] for i in range(right.shape[1])])\n",
    "        else:\n",
    "            raise NotImplementedError('Unable to handle region: %d', indices.id)\n",
    "\n",
    "\n",
    "        \n",
    "#place-holder class that will be implemented if approved. Will also include bounds as discussed in issue #13\n",
    "# These three classes will be one class. The region id will be an attribute.\n",
    "from sympy import Symbol\n",
    "class LeftBoundaryIndex(Symbol):\n",
    "    @property\n",
    "    def id(self):\n",
    "        return 0\n",
    "    \n",
    "class RightBoundaryIndex(Symbol):\n",
    "    @property\n",
    "    def id(self):\n",
    "        return 2\n",
    "    \n",
    "class InteriorIndex(Symbol):\n",
    "    @property\n",
    "    def id(self):\n",
    "        return 1\n",
    "      "
   ]
  },
  {
   "cell_type": "markdown",
   "metadata": {},
   "source": [
    "Then to use this operator, we need"
   ]
  },
  {
   "cell_type": "code",
   "execution_count": 2,
   "metadata": {
    "collapsed": true
   },
   "outputs": [],
   "source": [
    "D = Derivative('D')\n",
    "u = GridFunction('u', shape=(10,) )\n",
    "i_left = LeftBoundaryIndex('il')\n",
    "i_int = InteriorIndex('ii')\n",
    "i_right = RightBoundaryIndex('ir')\n",
    "expr = Expression(D*u)  "
   ]
  },
  {
   "cell_type": "markdown",
   "metadata": {},
   "source": [
    "Left boundary evaluation gives"
   ]
  },
  {
   "cell_type": "code",
   "execution_count": 3,
   "metadata": {},
   "outputs": [
    {
     "data": {
      "text/plain": [
       "u[0]*dl[il][0] + u[1]*dl[il][1]"
      ]
     },
     "execution_count": 3,
     "metadata": {},
     "output_type": "execute_result"
    }
   ],
   "source": [
    "expr[i_left]"
   ]
  },
  {
   "cell_type": "markdown",
   "metadata": {},
   "source": [
    "Interior evaluation gives"
   ]
  },
  {
   "cell_type": "code",
   "execution_count": 4,
   "metadata": {},
   "outputs": [
    {
     "data": {
      "text/plain": [
       "u[ii - 1]*di[0] + u[ii + 1]*di[1]"
      ]
     },
     "execution_count": 4,
     "metadata": {},
     "output_type": "execute_result"
    }
   ],
   "source": [
    "expr[i_int]"
   ]
  },
  {
   "cell_type": "markdown",
   "metadata": {},
   "source": [
    "Right boundary evaluation gives"
   ]
  },
  {
   "cell_type": "code",
   "execution_count": 5,
   "metadata": {},
   "outputs": [
    {
     "data": {
      "text/plain": [
       "u[-2]*dr[ir][1] + u[-1]*dr[ir][0]"
      ]
     },
     "execution_count": 5,
     "metadata": {},
     "output_type": "execute_result"
    }
   ],
   "source": [
    "expr[i_right]"
   ]
  },
  {
   "cell_type": "markdown",
   "metadata": {},
   "source": [
    "Now, if we use the kernel function generator to produce code for the computation of the left boundary using say 4 threads, then no computation will take place for three of those threads because the data array `left` only contains one row of coefficients (corresponding to one grid point, furthest to the left). Sometimes this default \"no computation\" action is the desired action to take and other times it is not. In fact, there are certain scenarios where it may lead to the wrong computational result! \n",
    "\n",
    "What can we do instead? One option is to perform the interior computation for these stencils as well. For that to work. Two tasks need to be sorted out:\n",
    "1. The `left` array needs to be filled with three more rows holding the interior stencil (banding)\n",
    "2. The interior region bounds needs to be updated to adjust for this change (otherwise this computation runs the risk of being performed twice for each of the three modified points)."
   ]
  },
  {
   "cell_type": "markdown",
   "metadata": {},
   "source": [
    "## Banded fill-in\n",
    "A banded fill-in is when the extra space that opens up in a boundary region is filled with repeated interior stencils that give rise to a banded structure. For example, filling the array `left` with the three nearest interior points would result in the following data array"
   ]
  },
  {
   "cell_type": "markdown",
   "metadata": {},
   "source": [
    "\n",
    "$$\\begin{align}\n",
    "A = \n",
    "\\begin{bmatrix}\n",
    "-1 & 1 & 0 & 0 & 0 \\\\\n",
    " -0.5 & 0 & 0.5 & 0 & 0 \\\\\n",
    " 0 & -0.5 & 0 & 0.5 & 0 \\\\\n",
    " 0 & 0 & -0.5 & 0 & 0.5\n",
    "\\end{bmatrix}\n",
    "\\end{align}\n",
    "$$"
   ]
  },
  {
   "cell_type": "markdown",
   "metadata": {},
   "source": [
    "If done manually, the code could look something like this"
   ]
  },
  {
   "cell_type": "code",
   "execution_count": 6,
   "metadata": {
    "collapsed": true
   },
   "outputs": [],
   "source": [
    "banded_left = [[-1.0, 1.0, 0.0, 0.0, 0.0], \n",
    "               [ -0.5, 0.0, 0.5, 0.0, 0.0],\n",
    "               [0.0, -0.5, 0.0, 0.5, 0.0],\n",
    "               [ 0.0, 0.0, -0.5, 0.0, 0.5]]\n",
    "left = array.CArray('left', np.array(banded_left))"
   ]
  },
  {
   "cell_type": "markdown",
   "metadata": {},
   "source": [
    "The same result can be accomplished using "
   ]
  },
  {
   "cell_type": "code",
   "execution_count": 7,
   "metadata": {},
   "outputs": [
    {
     "ename": "ImportError",
     "evalue": "cannot import name fills",
     "output_type": "error",
     "traceback": [
      "\u001b[0;31m---------------------------------------------------------------------------\u001b[0m",
      "\u001b[0;31mImportError\u001b[0m                               Traceback (most recent call last)",
      "\u001b[0;32m<ipython-input-7-3b0e49d760b7>\u001b[0m in \u001b[0;36m<module>\u001b[0;34m()\u001b[0m\n\u001b[0;32m----> 1\u001b[0;31m \u001b[0;32mfrom\u001b[0m \u001b[0mopenfd\u001b[0m\u001b[0;34m.\u001b[0m\u001b[0malpha\u001b[0m \u001b[0;32mimport\u001b[0m \u001b[0mfills\u001b[0m\u001b[0;34m\u001b[0m\u001b[0m\n\u001b[0m\u001b[1;32m      2\u001b[0m \u001b[0mbanded_left\u001b[0m \u001b[0;34m=\u001b[0m \u001b[0mfills\u001b[0m\u001b[0;34m.\u001b[0m\u001b[0mbanded\u001b[0m\u001b[0;34m(\u001b[0m\u001b[0mnp\u001b[0m\u001b[0;34m.\u001b[0m\u001b[0marray\u001b[0m\u001b[0;34m(\u001b[0m\u001b[0;34m[\u001b[0m\u001b[0;34m-\u001b[0m\u001b[0;36m0.5\u001b[0m\u001b[0;34m,\u001b[0m \u001b[0;36m0\u001b[0m\u001b[0;34m,\u001b[0m \u001b[0;36m0.5\u001b[0m\u001b[0;34m]\u001b[0m\u001b[0;34m)\u001b[0m\u001b[0;34m,\u001b[0m \u001b[0mnum_repeats\u001b[0m\u001b[0;34m=\u001b[0m\u001b[0;36m3\u001b[0m\u001b[0;34m,\u001b[0m  \u001b[0mblock\u001b[0m\u001b[0;34m=\u001b[0m\u001b[0mnp\u001b[0m\u001b[0;34m.\u001b[0m\u001b[0marray\u001b[0m\u001b[0;34m(\u001b[0m\u001b[0;34m[\u001b[0m\u001b[0;34m-\u001b[0m\u001b[0;36m1.0\u001b[0m\u001b[0;34m,\u001b[0m \u001b[0;36m1.0\u001b[0m\u001b[0;34m]\u001b[0m\u001b[0;34m)\u001b[0m\u001b[0;34m,\u001b[0m \u001b[0mreverse\u001b[0m\u001b[0;34m=\u001b[0m\u001b[0mFalse\u001b[0m\u001b[0;34m)\u001b[0m\u001b[0;34m\u001b[0m\u001b[0m\n",
      "\u001b[0;31mImportError\u001b[0m: cannot import name fills"
     ]
    }
   ],
   "source": [
    "from openfd.alpha import fills\n",
    "banded_left = fills.banded(np.array([-0.5, 0, 0.5]), num_repeats=3,  block=np.array([-1.0, 1.0]), reverse=False)"
   ]
  },
  {
   "cell_type": "markdown",
   "metadata": {},
   "source": [
    "See the API documentation [fills.banded](fills.banded) (TODO: fix this reference) for an explanation of what the arguments are."
   ]
  },
  {
   "cell_type": "markdown",
   "metadata": {},
   "source": [
    "## Zero fill-in\n",
    "An alternative to banded fill-in is zero fill-in. This fills the data array with zeros after the boundary block. This feature could be useful for overcoming issues when two grid functions have different dimensions but should be updated by the same kernel. Recall the packing of `u`, `v` in the velocity update for the acoustic wave equation. In 2D `u` would have an extra grid point in the x-direction compared to `v`, whereas the opposite would be true for the y-direction. That is, `v` would have an extra grid point compared to `u` in this case.\n",
    "\n",
    "Example of three-point zero-fill.\n",
    "$$\\begin{align}\n",
    "Z = \n",
    "\\begin{bmatrix}\n",
    "-1 & 1  \\\\\n",
    "0 & 0 \\\\\n",
    " 0 & 0 \\\\\n",
    " 0 & 0 \n",
    "\\end{bmatrix}\n",
    "\\end{align}\n",
    "$$\n",
    "\n",
    "The function call to accomplish this could simply be achieved using numpy slicing, or "
   ]
  },
  {
   "cell_type": "code",
   "execution_count": null,
   "metadata": {
    "collapsed": true
   },
   "outputs": [],
   "source": [
    "zeros_left = fills.zeros(num_repeats=3,  block=np.array([-1.0, 1.0]), reverse=False)"
   ]
  },
  {
   "cell_type": "markdown",
   "metadata": {},
   "source": [
    "## Updating operators"
   ]
  },
  {
   "cell_type": "markdown",
   "metadata": {},
   "source": [
    "Naturally, we would like to avoid to manually rebuild our operators whenever some form of fill-in is necessary. In this case, the `fill` class becomes useful. This class rebuilds an operator by telling it what type of fill to perform, where to perform the fill, and any additional arguments need for the specific type of fill."
   ]
  },
  {
   "cell_type": "code",
   "execution_count": null,
   "metadata": {
    "collapsed": true
   },
   "outputs": [],
   "source": [
    "# Modify the old derivative operator by making the boundary size 4 points wide by repeating the interior stencil\n",
    "filler = fills.Fill(D, i_left, i_int, 4)\n",
    "Dleft = filler.banded()"
   ]
  },
  {
   "cell_type": "markdown",
   "metadata": {},
   "source": [
    "The last piece of information that we need is the updated bounds. Perhaps these could be obtained from `Fills` via indices:"
   ]
  },
  {
   "cell_type": "code",
   "execution_count": null,
   "metadata": {
    "collapsed": true
   },
   "outputs": [],
   "source": [
    "i_left, i_int = filler.indices()"
   ]
  },
  {
   "cell_type": "markdown",
   "metadata": {},
   "source": [
    "In the above, the indices `i_left` and `i_int` would look the same as before (same label), but contain the updated bounds (assuming that it is a good idea to put bounds information on an index, which I think it is). \n",
    "\n",
    "If the operator also has a right boundary (it probably does), then we probably want to update it to. We can accomplish this by feeding the newly created operator into `Fills` again. "
   ]
  },
  {
   "cell_type": "code",
   "execution_count": null,
   "metadata": {
    "collapsed": true
   },
   "outputs": [],
   "source": [
    "filler = fills.Fill(D, i_left, i_int, 4)\n",
    "Dleft = filler.banded()\n",
    "i_left, i_int = filler.indices()\n",
    "filler = fills.Fill(Dleft, i_right, i_int, 4)\n",
    "Dnew = filler.banded()\n",
    "i_right, i_int = filler.indices()\n",
    "\n"
   ]
  },
  {
   "cell_type": "code",
   "execution_count": null,
   "metadata": {
    "collapsed": true
   },
   "outputs": [],
   "source": []
  }
 ],
 "metadata": {
  "kernelspec": {
   "display_name": "Python 2",
   "language": "python",
   "name": "python2"
  },
  "language_info": {
   "codemirror_mode": {
    "name": "ipython",
    "version": 2
   },
   "file_extension": ".py",
   "mimetype": "text/x-python",
   "name": "python",
   "nbconvert_exporter": "python",
   "pygments_lexer": "ipython2",
   "version": "2.7.12+"
  }
 },
 "nbformat": 4,
 "nbformat_minor": 2
}
