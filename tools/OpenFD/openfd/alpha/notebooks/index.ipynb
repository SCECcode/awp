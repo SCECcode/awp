{
 "cells": [
  {
   "cell_type": "markdown",
   "metadata": {},
   "source": [
    "# Index\n",
    "The index module provides different ways to manipulate indices."
   ]
  },
  {
   "cell_type": "markdown",
   "metadata": {},
   "source": [
    "## Selecting a target for modification"
   ]
  },
  {
   "cell_type": "markdown",
   "metadata": {},
   "source": [
    "Instead of having to type the following lines of code to write `u[i,j-1] + u[i,j+1]`, we explore something simpler when we do not ahead of time if the `y`-component or the `x`-component should be modified. First the standard way,"
   ]
  },
  {
   "cell_type": "code",
   "execution_count": null,
   "metadata": {
    "collapsed": true
   },
   "outputs": [],
   "source": [
    "from openfd.alpha import GridFunction, Expression as Expr\n",
    "from openfd import GridFunction as GF\n",
    "from sympy import symbols\n",
    "u = GridFunction('u', shape=(10,10))\n",
    "i, j = symbols('i j')"
   ]
  },
  {
   "cell_type": "code",
   "execution_count": null,
   "metadata": {},
   "outputs": [],
   "source": [
    "base = [i, j]\n",
    "comp = 1 # The component we wish to modify (in this case `y`)\n",
    "val1 = [b for b in base]\n",
    "val2 = [b for b in base]\n",
    "val1[comp] += -1\n",
    "val2[comp] += 1\n",
    "expr = Expr(u)\n",
    "u[tuple(val1)] + u[tuple(val2)]"
   ]
  },
  {
   "cell_type": "markdown",
   "metadata": {},
   "source": [
    "Now, using a target:"
   ]
  },
  {
   "cell_type": "code",
   "execution_count": null,
   "metadata": {
    "collapsed": true
   },
   "outputs": [],
   "source": [
    "from openfd.alpha import index"
   ]
  },
  {
   "cell_type": "code",
   "execution_count": null,
   "metadata": {},
   "outputs": [],
   "source": [
    "idx = index.IndexTarget('y', base) # we can also use `1` instead of `y`.\n",
    "u[idx.add(-1)] + u[idx.add(1)]"
   ]
  }
 ],
 "metadata": {
  "kernelspec": {
   "display_name": "Python 2",
   "language": "python",
   "name": "python2"
  },
  "language_info": {
   "codemirror_mode": {
    "name": "ipython",
    "version": 2
   },
   "file_extension": ".py",
   "mimetype": "text/x-python",
   "name": "python",
   "nbconvert_exporter": "python",
   "pygments_lexer": "ipython2",
   "version": "2.7.12+"
  }
 },
 "nbformat": 4,
 "nbformat_minor": 2
}
