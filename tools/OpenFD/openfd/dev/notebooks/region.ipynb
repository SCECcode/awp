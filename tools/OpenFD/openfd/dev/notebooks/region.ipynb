{
 "cells": [
  {
   "cell_type": "markdown",
   "metadata": {},
   "source": [
    "# Understanding regions\n",
    "In OpenFD, computation takes place either in the interior or on the boundary. In 1D, the computational domain is subdivided into three compute regions. These regions are denoted by `left`, `right`, and `center`. The fact that we have different compute regions signify that there is a change in the way that the computation is being performed. tBy default, OpenFD generates a compute kernel for each region. In 2D, the picture becomes slightly more complicated because now there are 9 different regions, and 3D there is a total of 27 regions. \n",
    "\n",
    "OpenFD provides three different ways of requesting or assigning computation to a specific region. These ways are either as a [coordinate](#coordinate), [index](#index), or [label](#label). It is up to the user to choose which format to use. The [label](#label) format is arguably the best in terms of code readability, but may be less convient to use compared to the other two formats.\n",
    "\n"
   ]
  },
  {
   "cell_type": "markdown",
   "metadata": {},
   "source": [
    "## Formats\n",
    "The different formats that can be used are listed in the Tables below depending on the number of spatial dimensions the computation takes place in. Currently, OpenFD only supports 1D, 2D, and 3D computation.\n",
    "\n",
    "### 1D formats\n",
    "\n",
    "| Label    | Coordinate | Index |\n",
    "|----------|------------|-------|\n",
    "| `left`   | `(0,)`     | `0`   |\n",
    "| `center` | `(1,)`     | `1`   |\n",
    "| `right`  | `(2,)`     | `2`   |\n",
    "\n",
    "\n",
    "### 2D formats\n",
    "\n",
    "| Label           | Coordinate | Index |\n",
    "|-----------------|------------|-------|\n",
    "| `left bottom`   | `(0, 0)`   | `0`   |\n",
    "| `center bottom` | `(1, 0)`   | `1`   |\n",
    "| `right bottom`  | `(2, 0)`   | `2`   |\n",
    "| `left center`   | `(0, 1)`   | `3`   |\n",
    "| `center center` | `(1, 1)`   | `4`   |\n",
    "| `right center`  | `(2, 1)`   | `5`   |\n",
    "| `left top`      | `(0, 2)`   | `6`   |\n",
    "| `center top`    | `(1, 2)`   | `7`   |\n",
    "| `right top`     | `(2, 2)`   | `8`   |\n",
    "\n",
    "### 3D formats\n",
    "\n",
    "| Label                  | Coordinate  | Index |\n",
    "|------------------------|-------------|-------|\n",
    "| `left bottom back`     | `(0, 0, 0)` | `0`   |\n",
    "| `center bottom back`   | `(1, 0, 0)` | `1`   |\n",
    "| `right bottom back`    | `(2, 0, 0)` | `2`   |\n",
    "| `left center back`     | `(0, 1, 0)` | `3`   |\n",
    "| `center center back`   | `(1, 1, 0)` | `4`   |\n",
    "| `right center back`    | `(2, 1, 0)` | `5`   |\n",
    "| `left top back`        | `(0, 2, 0)` | `6`   |\n",
    "| `center top back`      | `(1, 2, 0)` | `7`   |\n",
    "| `right top back`       | `(2, 2, 0)` | `8`   |\n",
    "| `left bottom center`   | `(0, 0, 1)` | `9`   |\n",
    "| `center bottom center` | `(1, 0, 1)` | `10`  |\n",
    "| `right bottom center`  | `(2, 0, 1)` | `11`  |\n",
    "| `left center center`   | `(0, 1, 1)` | `12`  |\n",
    "| `center center center` | `(1, 1, 1)` | `13`  |\n",
    "| `right center center`  | `(2, 1, 1)` | `14`  |\n",
    "| `left top center`      | `(0, 2, 1)` | `15`  |\n",
    "| `center top center`    | `(1, 2, 1)` | `16`  |\n",
    "| `right top center`     | `(2, 2, 1)` | `17`  |\n",
    "| `left bottom front`    | `(0, 0, 2)` | `18`  |\n",
    "| `center bottom front`  | `(1, 0, 2)` | `19`  |\n",
    "| `right bottom front`   | `(2, 0, 2)` | `20`  |\n",
    "| `left center front`    | `(0, 1, 2)` | `21`  |\n",
    "| `center center front`  | `(1, 1, 2)` | `22`  |\n",
    "| `right center front`   | `(2, 1, 2)` | `23`  |\n",
    "| `left top front`       | `(0, 2, 2)` | `24`  |\n",
    "| `center top front`     | `(1, 2, 2)` | `25`  |\n",
    "| `right top front`      | `(2, 2, 2)` | `26`  |\n",
    "\n",
    "\n"
   ]
  },
  {
   "cell_type": "markdown",
   "metadata": {},
   "source": [
    "# Coordinate, Index, and Labels\n",
    "The classes `Coordinate`, `Index`, and `Label` serve the purpose of building objects in the different formats and provides functionality for both checking their correctness and for converting from one and another. "
   ]
  },
  {
   "cell_type": "code",
   "execution_count": 1,
   "metadata": {
    "collapsed": true
   },
   "outputs": [],
   "source": [
    "from openfd.dev import region\n"
   ]
  },
  {
   "cell_type": "markdown",
   "metadata": {},
   "source": [
    "Let's go ahead an construct a coordinate and then find out what label or index it maps to."
   ]
  },
  {
   "cell_type": "code",
   "execution_count": 4,
   "metadata": {},
   "outputs": [
    {
     "data": {
      "text/plain": [
       "(0, 0, 1)"
      ]
     },
     "execution_count": 4,
     "metadata": {},
     "output_type": "execute_result"
    }
   ],
   "source": [
    "coord = region.Coordinate((0,0,1))\n",
    "coord.coord"
   ]
  },
  {
   "cell_type": "code",
   "execution_count": 5,
   "metadata": {},
   "outputs": [
    {
     "data": {
      "text/plain": [
       "'left bottom center'"
      ]
     },
     "execution_count": 5,
     "metadata": {},
     "output_type": "execute_result"
    }
   ],
   "source": [
    "label = coord.label()\n",
    "label.label\n"
   ]
  },
  {
   "cell_type": "code",
   "execution_count": 7,
   "metadata": {},
   "outputs": [
    {
     "data": {
      "text/plain": [
       "9"
      ]
     },
     "execution_count": 7,
     "metadata": {},
     "output_type": "execute_result"
    }
   ],
   "source": [
    "index = coord.index()\n",
    "index.index"
   ]
  },
  {
   "cell_type": "markdown",
   "metadata": {},
   "source": [
    "As we can see from the above, the `label` and `index` are objects just like `coord`, and to access their data we use `.label`, `.index`, or `.coord` depending on what type of object it is."
   ]
  },
  {
   "cell_type": "markdown",
   "metadata": {},
   "source": [
    "We can convert back if we like,"
   ]
  },
  {
   "cell_type": "code",
   "execution_count": 8,
   "metadata": {},
   "outputs": [
    {
     "data": {
      "text/plain": [
       "(0, 0, 1)"
      ]
     },
     "execution_count": 8,
     "metadata": {},
     "output_type": "execute_result"
    }
   ],
   "source": [
    "index.coord().coord"
   ]
  },
  {
   "cell_type": "code",
   "execution_count": 9,
   "metadata": {},
   "outputs": [
    {
     "data": {
      "text/plain": [
       "(0, 0, 1)"
      ]
     },
     "execution_count": 9,
     "metadata": {},
     "output_type": "execute_result"
    }
   ],
   "source": [
    "label.coord().coord"
   ]
  },
  {
   "cell_type": "markdown",
   "metadata": {},
   "source": [
    "The only thing we need to be a bit careful about is when constructing indices because it is a bit ambigiuous if `0`, `1`, `2` are indices or coordinates. Also, is index `0` mapping to `left` in 1D, or maybe it should map to the 2D label `left bottom`? to resolve this issue, it is important to pass the flag `dim`, which describes the number of dimensions the computation should take place in. "
   ]
  },
  {
   "cell_type": "code",
   "execution_count": 10,
   "metadata": {},
   "outputs": [
    {
     "data": {
      "text/plain": [
       "'left'"
      ]
     },
     "execution_count": 10,
     "metadata": {},
     "output_type": "execute_result"
    }
   ],
   "source": [
    "region.Index(0, dim=1).label().label"
   ]
  },
  {
   "cell_type": "code",
   "execution_count": 11,
   "metadata": {},
   "outputs": [
    {
     "data": {
      "text/plain": [
       "'left bottom'"
      ]
     },
     "execution_count": 11,
     "metadata": {},
     "output_type": "execute_result"
    }
   ],
   "source": [
    "region.Index(0, dim=2).label().label"
   ]
  },
  {
   "cell_type": "markdown",
   "metadata": {},
   "source": [
    "## Autoconversion\n",
    "Sometimes we do not know what format something is in. In these cases, the autoconversion function comes in handy.\n"
   ]
  },
  {
   "cell_type": "code",
   "execution_count": 15,
   "metadata": {},
   "outputs": [
    {
     "data": {
      "text/plain": [
       "True"
      ]
     },
     "execution_count": 15,
     "metadata": {},
     "output_type": "execute_result"
    }
   ],
   "source": [
    "obj = region.autoconvert((0,0))\n",
    "isinstance(obj, region.Coordinate)"
   ]
  },
  {
   "cell_type": "code",
   "execution_count": 17,
   "metadata": {},
   "outputs": [
    {
     "data": {
      "text/plain": [
       "True"
      ]
     },
     "execution_count": 17,
     "metadata": {},
     "output_type": "execute_result"
    }
   ],
   "source": [
    "obj = region.autoconvert('left')\n",
    "isinstance(obj, region.Label)"
   ]
  },
  {
   "cell_type": "code",
   "execution_count": 19,
   "metadata": {},
   "outputs": [
    {
     "data": {
      "text/plain": [
       "True"
      ]
     },
     "execution_count": 19,
     "metadata": {},
     "output_type": "execute_result"
    }
   ],
   "source": [
    "obj = region.autoconvert(1)\n",
    "isinstance(obj, region.Coordinate)"
   ]
  },
  {
   "cell_type": "markdown",
   "metadata": {
    "collapsed": true
   },
   "source": [
    "We again have the problem with indices. To convert to indices correctly, we need to specify `dim` option."
   ]
  },
  {
   "cell_type": "code",
   "execution_count": 23,
   "metadata": {},
   "outputs": [
    {
     "data": {
      "text/plain": [
       "True"
      ]
     },
     "execution_count": 23,
     "metadata": {},
     "output_type": "execute_result"
    }
   ],
   "source": [
    "obj = region.autoconvert(1, dim=1)\n",
    "isinstance(obj, region.Index)"
   ]
  }
 ],
 "metadata": {
  "kernelspec": {
   "display_name": "Python 2",
   "language": "python",
   "name": "python2"
  },
  "language_info": {
   "codemirror_mode": {
    "name": "ipython",
    "version": 2
   },
   "file_extension": ".py",
   "mimetype": "text/x-python",
   "name": "python",
   "nbconvert_exporter": "python",
   "pygments_lexer": "ipython2",
   "version": "2.7.12+"
  }
 },
 "nbformat": 4,
 "nbformat_minor": 2
}
